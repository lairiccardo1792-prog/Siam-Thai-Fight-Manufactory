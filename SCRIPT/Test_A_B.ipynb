{
 "cells": [
  {
   "cell_type": "markdown",
   "id": "693e70c7",
   "metadata": {},
   "source": [
    "# A/B TEST — Control 2023 vs Treatment 2024\n",
    "\n",
    "## Objective\n",
    "Evaluate the effect of discount reduction on:\n",
    "- **total_loss_due_to_discount** → expected to decrease\n",
    "- **total_margin_usd** → expected to increase\n",
    "- **total_units_sold** → expected to remain stable (drop < 1%)\n",
    "\n",
    "## Datasets used\n",
    "- `control_significant.csv` → actual data 2023\n",
    "- `treatment_significant.csv` → simulated data 2024\n",
    "\n",
    "## Statistical Approach\n",
    "\n",
    "Following the recommendation from the project’s call to action, we proceed with a statistical analysis to validate the impact of the discount reduction. We will perform hypothesis testing comparing the control group (2023) and the treatment group (2024) on key metrics: total loss due to discount, total margin in USD, and total units sold."
   ]
  },
  {
   "cell_type": "markdown",
   "id": "7b6ca3be",
   "metadata": {},
   "source": [
    "## 1. Importing Libraries\n",
    "In this section, I load the necessary libraries for:\n",
    "- data manipulation (`pandas`)\n",
    "- creating plots (`matplotlib`, `seaborn`)\n",
    "- performing statistical tests (`scipy`)"
   ]
  },
  {
   "cell_type": "code",
   "execution_count": 64,
   "id": "9d1be241",
   "metadata": {},
   "outputs": [],
   "source": [
    "import pandas as pd\n",
    "import matplotlib.pyplot as plt\n",
    "import seaborn as sns\n",
    "from scipy import stats"
   ]
  },
  {
   "cell_type": "markdown",
   "id": "63c40fcf",
   "metadata": {},
   "source": [
    "## 2. Loading the Datasets\n",
    "I load the CSV files (control and treatment) containing the data to be analyzed."
   ]
  },
  {
   "cell_type": "code",
   "execution_count": null,
   "id": "3d3da0f6",
   "metadata": {},
   "outputs": [
    {
     "name": "stderr",
     "output_type": "stream",
     "text": [
      "<>:2: SyntaxWarning: invalid escape sequence '\\H'\n",
      "<>:2: SyntaxWarning: invalid escape sequence '\\H'\n",
      "C:\\Users\\Sker\\AppData\\Local\\Temp\\ipykernel_22464\\545548206.py:2: SyntaxWarning: invalid escape sequence '\\H'\n",
      "  control = pd.read_csv(\"C://Users//Sker//OneDrive//Desktop//Python eserc//archive\\Homework//control_significant.csv\")\n"
     ]
    }
   ],
   "source": [
    "treatment = pd.read_csv(\"treatment_significant.csv\")\n",
    "control = pd.read_csv(\"control_significant.csv\")"
   ]
  },
  {
   "cell_type": "markdown",
   "id": "d9a7761e",
   "metadata": {},
   "source": [
    "## 3. Initial Exploration\n",
    "I check the structure of the datasets to understand how many rows/columns they have and to take a look at the values."
   ]
  },
  {
   "cell_type": "code",
   "execution_count": 66,
   "id": "4b6ba99a",
   "metadata": {},
   "outputs": [
    {
     "name": "stdout",
     "output_type": "stream",
     "text": [
      "Treatment 2024\n"
     ]
    },
    {
     "data": {
      "text/html": [
       "<div>\n",
       "<style scoped>\n",
       "    .dataframe tbody tr th:only-of-type {\n",
       "        vertical-align: middle;\n",
       "    }\n",
       "\n",
       "    .dataframe tbody tr th {\n",
       "        vertical-align: top;\n",
       "    }\n",
       "\n",
       "    .dataframe thead th {\n",
       "        text-align: right;\n",
       "    }\n",
       "</style>\n",
       "<table border=\"1\" class=\"dataframe\">\n",
       "  <thead>\n",
       "    <tr style=\"text-align: right;\">\n",
       "      <th></th>\n",
       "      <th>year</th>\n",
       "      <th>month</th>\n",
       "      <th>continent</th>\n",
       "      <th>country</th>\n",
       "      <th>macro_category</th>\n",
       "      <th>category</th>\n",
       "      <th>brand_name</th>\n",
       "      <th>channel</th>\n",
       "      <th>total_units_sold</th>\n",
       "      <th>total_revenue</th>\n",
       "      <th>...</th>\n",
       "      <th>gross_potential</th>\n",
       "      <th>margin_per_unit_orig</th>\n",
       "      <th>disc_factor</th>\n",
       "      <th>cost_factor</th>\n",
       "      <th>net_margin_usd</th>\n",
       "      <th>net_margin_percent</th>\n",
       "      <th>discount_loss_share</th>\n",
       "      <th>high_cost_loss_share</th>\n",
       "      <th>sales_staff</th>\n",
       "      <th>revenue_per_staff</th>\n",
       "    </tr>\n",
       "  </thead>\n",
       "  <tbody>\n",
       "    <tr>\n",
       "      <th>0</th>\n",
       "      <td>2024</td>\n",
       "      <td>1</td>\n",
       "      <td>Asia</td>\n",
       "      <td>China</td>\n",
       "      <td>Equipment</td>\n",
       "      <td>Gloves</td>\n",
       "      <td>Venum</td>\n",
       "      <td>Retail</td>\n",
       "      <td>12.217797</td>\n",
       "      <td>675.409581</td>\n",
       "      <td>...</td>\n",
       "      <td>685.874735</td>\n",
       "      <td>49.882672</td>\n",
       "      <td>0.85</td>\n",
       "      <td>0.9</td>\n",
       "      <td>658.017759</td>\n",
       "      <td>0.964507</td>\n",
       "      <td>0.040832</td>\n",
       "      <td>0.0</td>\n",
       "      <td>0</td>\n",
       "      <td>0.000000</td>\n",
       "    </tr>\n",
       "    <tr>\n",
       "      <th>1</th>\n",
       "      <td>2024</td>\n",
       "      <td>1</td>\n",
       "      <td>Asia</td>\n",
       "      <td>Singapore</td>\n",
       "      <td>Equipment</td>\n",
       "      <td>Gloves</td>\n",
       "      <td>Yokkao</td>\n",
       "      <td>Distributor</td>\n",
       "      <td>22.605196</td>\n",
       "      <td>3423.843465</td>\n",
       "      <td>...</td>\n",
       "      <td>2409.159286</td>\n",
       "      <td>51.265159</td>\n",
       "      <td>0.85</td>\n",
       "      <td>0.9</td>\n",
       "      <td>1644.742429</td>\n",
       "      <td>0.475575</td>\n",
       "      <td>0.221030</td>\n",
       "      <td>0.0</td>\n",
       "      <td>1</td>\n",
       "      <td>3458.427742</td>\n",
       "    </tr>\n",
       "    <tr>\n",
       "      <th>2</th>\n",
       "      <td>2024</td>\n",
       "      <td>1</td>\n",
       "      <td>Asia</td>\n",
       "      <td>Thailand</td>\n",
       "      <td>Equipment</td>\n",
       "      <td>Belly Pads</td>\n",
       "      <td>Windy</td>\n",
       "      <td>Retail</td>\n",
       "      <td>21.557150</td>\n",
       "      <td>3360.916128</td>\n",
       "      <td>...</td>\n",
       "      <td>1003.777628</td>\n",
       "      <td>35.516419</td>\n",
       "      <td>1.30</td>\n",
       "      <td>1.2</td>\n",
       "      <td>792.459056</td>\n",
       "      <td>0.233429</td>\n",
       "      <td>0.062247</td>\n",
       "      <td>0.0</td>\n",
       "      <td>1</td>\n",
       "      <td>3394.864776</td>\n",
       "    </tr>\n",
       "    <tr>\n",
       "      <th>3</th>\n",
       "      <td>2024</td>\n",
       "      <td>1</td>\n",
       "      <td>Asia</td>\n",
       "      <td>UAE</td>\n",
       "      <td>Equipment</td>\n",
       "      <td>Gloves</td>\n",
       "      <td>Windy</td>\n",
       "      <td>Online</td>\n",
       "      <td>29.603819</td>\n",
       "      <td>1674.042316</td>\n",
       "      <td>...</td>\n",
       "      <td>1338.995315</td>\n",
       "      <td>34.869813</td>\n",
       "      <td>1.00</td>\n",
       "      <td>1.0</td>\n",
       "      <td>788.521732</td>\n",
       "      <td>0.466318</td>\n",
       "      <td>0.325541</td>\n",
       "      <td>0.0</td>\n",
       "      <td>0</td>\n",
       "      <td>0.000000</td>\n",
       "    </tr>\n",
       "    <tr>\n",
       "      <th>4</th>\n",
       "      <td>2024</td>\n",
       "      <td>1</td>\n",
       "      <td>Europe</td>\n",
       "      <td>France</td>\n",
       "      <td>Equipment</td>\n",
       "      <td>Kick Pads</td>\n",
       "      <td>Booster Fight Gear</td>\n",
       "      <td>Retail</td>\n",
       "      <td>19.674411</td>\n",
       "      <td>1621.024102</td>\n",
       "      <td>...</td>\n",
       "      <td>1189.206676</td>\n",
       "      <td>36.390794</td>\n",
       "      <td>1.30</td>\n",
       "      <td>1.2</td>\n",
       "      <td>679.947101</td>\n",
       "      <td>0.415261</td>\n",
       "      <td>0.311018</td>\n",
       "      <td>0.0</td>\n",
       "      <td>0</td>\n",
       "      <td>0.000000</td>\n",
       "    </tr>\n",
       "  </tbody>\n",
       "</table>\n",
       "<p>5 rows × 29 columns</p>\n",
       "</div>"
      ],
      "text/plain": [
       "   year  month continent    country macro_category    category  \\\n",
       "0  2024      1      Asia      China      Equipment      Gloves   \n",
       "1  2024      1      Asia  Singapore      Equipment      Gloves   \n",
       "2  2024      1      Asia   Thailand      Equipment  Belly Pads   \n",
       "3  2024      1      Asia        UAE      Equipment      Gloves   \n",
       "4  2024      1    Europe     France      Equipment   Kick Pads   \n",
       "\n",
       "           brand_name      channel  total_units_sold  total_revenue  ...  \\\n",
       "0               Venum       Retail         12.217797     675.409581  ...   \n",
       "1              Yokkao  Distributor         22.605196    3423.843465  ...   \n",
       "2               Windy       Retail         21.557150    3360.916128  ...   \n",
       "3               Windy       Online         29.603819    1674.042316  ...   \n",
       "4  Booster Fight Gear       Retail         19.674411    1621.024102  ...   \n",
       "\n",
       "   gross_potential  margin_per_unit_orig  disc_factor  cost_factor  \\\n",
       "0       685.874735             49.882672         0.85          0.9   \n",
       "1      2409.159286             51.265159         0.85          0.9   \n",
       "2      1003.777628             35.516419         1.30          1.2   \n",
       "3      1338.995315             34.869813         1.00          1.0   \n",
       "4      1189.206676             36.390794         1.30          1.2   \n",
       "\n",
       "   net_margin_usd  net_margin_percent  discount_loss_share  \\\n",
       "0      658.017759            0.964507             0.040832   \n",
       "1     1644.742429            0.475575             0.221030   \n",
       "2      792.459056            0.233429             0.062247   \n",
       "3      788.521732            0.466318             0.325541   \n",
       "4      679.947101            0.415261             0.311018   \n",
       "\n",
       "   high_cost_loss_share  sales_staff  revenue_per_staff  \n",
       "0                   0.0            0           0.000000  \n",
       "1                   0.0            1        3458.427742  \n",
       "2                   0.0            1        3394.864776  \n",
       "3                   0.0            0           0.000000  \n",
       "4                   0.0            0           0.000000  \n",
       "\n",
       "[5 rows x 29 columns]"
      ]
     },
     "metadata": {},
     "output_type": "display_data"
    },
    {
     "name": "stdout",
     "output_type": "stream",
     "text": [
      "Control 2023\n"
     ]
    },
    {
     "data": {
      "text/html": [
       "<div>\n",
       "<style scoped>\n",
       "    .dataframe tbody tr th:only-of-type {\n",
       "        vertical-align: middle;\n",
       "    }\n",
       "\n",
       "    .dataframe tbody tr th {\n",
       "        vertical-align: top;\n",
       "    }\n",
       "\n",
       "    .dataframe thead th {\n",
       "        text-align: right;\n",
       "    }\n",
       "</style>\n",
       "<table border=\"1\" class=\"dataframe\">\n",
       "  <thead>\n",
       "    <tr style=\"text-align: right;\">\n",
       "      <th></th>\n",
       "      <th>year</th>\n",
       "      <th>month</th>\n",
       "      <th>continent</th>\n",
       "      <th>country</th>\n",
       "      <th>macro_category</th>\n",
       "      <th>category</th>\n",
       "      <th>brand_name</th>\n",
       "      <th>channel</th>\n",
       "      <th>total_units_sold</th>\n",
       "      <th>total_revenue</th>\n",
       "      <th>...</th>\n",
       "      <th>gross_potential</th>\n",
       "      <th>margin_per_unit_orig</th>\n",
       "      <th>disc_factor</th>\n",
       "      <th>cost_factor</th>\n",
       "      <th>net_margin_usd</th>\n",
       "      <th>net_margin_percent</th>\n",
       "      <th>discount_loss_share</th>\n",
       "      <th>high_cost_loss_share</th>\n",
       "      <th>sales_staff</th>\n",
       "      <th>revenue_per_staff</th>\n",
       "    </tr>\n",
       "  </thead>\n",
       "  <tbody>\n",
       "    <tr>\n",
       "      <th>0</th>\n",
       "      <td>2023</td>\n",
       "      <td>1</td>\n",
       "      <td>Asia</td>\n",
       "      <td>China</td>\n",
       "      <td>Equipment</td>\n",
       "      <td>Gloves</td>\n",
       "      <td>Venum</td>\n",
       "      <td>Retail</td>\n",
       "      <td>12.341209</td>\n",
       "      <td>682.231900</td>\n",
       "      <td>...</td>\n",
       "      <td>685.874735</td>\n",
       "      <td>49.882672</td>\n",
       "      <td>0.85</td>\n",
       "      <td>0.9</td>\n",
       "      <td>658.017759</td>\n",
       "      <td>0.964507</td>\n",
       "      <td>0.040832</td>\n",
       "      <td>0.0</td>\n",
       "      <td>0</td>\n",
       "      <td>0.000000</td>\n",
       "    </tr>\n",
       "    <tr>\n",
       "      <th>1</th>\n",
       "      <td>2023</td>\n",
       "      <td>1</td>\n",
       "      <td>Asia</td>\n",
       "      <td>Singapore</td>\n",
       "      <td>Equipment</td>\n",
       "      <td>Gloves</td>\n",
       "      <td>Yokkao</td>\n",
       "      <td>Distributor</td>\n",
       "      <td>22.833532</td>\n",
       "      <td>3458.427742</td>\n",
       "      <td>...</td>\n",
       "      <td>2409.159286</td>\n",
       "      <td>51.265159</td>\n",
       "      <td>0.85</td>\n",
       "      <td>0.9</td>\n",
       "      <td>1644.742429</td>\n",
       "      <td>0.475575</td>\n",
       "      <td>0.221030</td>\n",
       "      <td>0.0</td>\n",
       "      <td>1</td>\n",
       "      <td>3458.427742</td>\n",
       "    </tr>\n",
       "    <tr>\n",
       "      <th>2</th>\n",
       "      <td>2023</td>\n",
       "      <td>1</td>\n",
       "      <td>Asia</td>\n",
       "      <td>Thailand</td>\n",
       "      <td>Equipment</td>\n",
       "      <td>Belly Pads</td>\n",
       "      <td>Windy</td>\n",
       "      <td>Retail</td>\n",
       "      <td>21.774899</td>\n",
       "      <td>3394.864776</td>\n",
       "      <td>...</td>\n",
       "      <td>1003.777628</td>\n",
       "      <td>35.516419</td>\n",
       "      <td>1.30</td>\n",
       "      <td>1.2</td>\n",
       "      <td>792.459056</td>\n",
       "      <td>0.233429</td>\n",
       "      <td>0.062247</td>\n",
       "      <td>0.0</td>\n",
       "      <td>1</td>\n",
       "      <td>3394.864776</td>\n",
       "    </tr>\n",
       "    <tr>\n",
       "      <th>3</th>\n",
       "      <td>2023</td>\n",
       "      <td>1</td>\n",
       "      <td>Asia</td>\n",
       "      <td>UAE</td>\n",
       "      <td>Equipment</td>\n",
       "      <td>Gloves</td>\n",
       "      <td>Windy</td>\n",
       "      <td>Online</td>\n",
       "      <td>29.902848</td>\n",
       "      <td>1690.951834</td>\n",
       "      <td>...</td>\n",
       "      <td>1338.995315</td>\n",
       "      <td>34.869813</td>\n",
       "      <td>1.00</td>\n",
       "      <td>1.0</td>\n",
       "      <td>788.521732</td>\n",
       "      <td>0.466318</td>\n",
       "      <td>0.325541</td>\n",
       "      <td>0.0</td>\n",
       "      <td>0</td>\n",
       "      <td>0.000000</td>\n",
       "    </tr>\n",
       "    <tr>\n",
       "      <th>4</th>\n",
       "      <td>2023</td>\n",
       "      <td>1</td>\n",
       "      <td>Europe</td>\n",
       "      <td>France</td>\n",
       "      <td>Equipment</td>\n",
       "      <td>Kick Pads</td>\n",
       "      <td>Booster Fight Gear</td>\n",
       "      <td>Retail</td>\n",
       "      <td>19.873143</td>\n",
       "      <td>1637.398083</td>\n",
       "      <td>...</td>\n",
       "      <td>1189.206676</td>\n",
       "      <td>36.390794</td>\n",
       "      <td>1.30</td>\n",
       "      <td>1.2</td>\n",
       "      <td>679.947101</td>\n",
       "      <td>0.415261</td>\n",
       "      <td>0.311018</td>\n",
       "      <td>0.0</td>\n",
       "      <td>0</td>\n",
       "      <td>0.000000</td>\n",
       "    </tr>\n",
       "  </tbody>\n",
       "</table>\n",
       "<p>5 rows × 29 columns</p>\n",
       "</div>"
      ],
      "text/plain": [
       "   year  month continent    country macro_category    category  \\\n",
       "0  2023      1      Asia      China      Equipment      Gloves   \n",
       "1  2023      1      Asia  Singapore      Equipment      Gloves   \n",
       "2  2023      1      Asia   Thailand      Equipment  Belly Pads   \n",
       "3  2023      1      Asia        UAE      Equipment      Gloves   \n",
       "4  2023      1    Europe     France      Equipment   Kick Pads   \n",
       "\n",
       "           brand_name      channel  total_units_sold  total_revenue  ...  \\\n",
       "0               Venum       Retail         12.341209     682.231900  ...   \n",
       "1              Yokkao  Distributor         22.833532    3458.427742  ...   \n",
       "2               Windy       Retail         21.774899    3394.864776  ...   \n",
       "3               Windy       Online         29.902848    1690.951834  ...   \n",
       "4  Booster Fight Gear       Retail         19.873143    1637.398083  ...   \n",
       "\n",
       "   gross_potential  margin_per_unit_orig  disc_factor  cost_factor  \\\n",
       "0       685.874735             49.882672         0.85          0.9   \n",
       "1      2409.159286             51.265159         0.85          0.9   \n",
       "2      1003.777628             35.516419         1.30          1.2   \n",
       "3      1338.995315             34.869813         1.00          1.0   \n",
       "4      1189.206676             36.390794         1.30          1.2   \n",
       "\n",
       "   net_margin_usd  net_margin_percent  discount_loss_share  \\\n",
       "0      658.017759            0.964507             0.040832   \n",
       "1     1644.742429            0.475575             0.221030   \n",
       "2      792.459056            0.233429             0.062247   \n",
       "3      788.521732            0.466318             0.325541   \n",
       "4      679.947101            0.415261             0.311018   \n",
       "\n",
       "   high_cost_loss_share  sales_staff  revenue_per_staff  \n",
       "0                   0.0            0           0.000000  \n",
       "1                   0.0            1        3458.427742  \n",
       "2                   0.0            1        3394.864776  \n",
       "3                   0.0            0           0.000000  \n",
       "4                   0.0            0           0.000000  \n",
       "\n",
       "[5 rows x 29 columns]"
      ]
     },
     "metadata": {},
     "output_type": "display_data"
    }
   ],
   "source": [
    "print(\"Treatment 2024\")\n",
    "display(treatment.head())\n",
    "print(\"Control 2023\")\n",
    "display(control.head())"
   ]
  },
  {
   "cell_type": "markdown",
   "id": "698a1058",
   "metadata": {},
   "source": [
    "## 4. Data Filtering\n",
    "I select only the relevant records for the A/B test:\n",
    "- Countries: Japan, Germany, Thailand  \n",
    "- Period: from January to June  \n",
    "- Control group: year 2023  \n",
    "- Treatment group: year 2024  \n",
    "\n",
    "This way, I obtain two comparable datasets (control vs treatment)."
   ]
  },
  {
   "cell_type": "code",
   "execution_count": 67,
   "id": "73ac4d88",
   "metadata": {},
   "outputs": [
    {
     "name": "stdout",
     "output_type": "stream",
     "text": [
      "Controllo filtered: (23, 29)\n",
      "Treatment filtered: (23, 29)\n"
     ]
    }
   ],
   "source": [
    "countries = [\"Japan\", \"Germany\", \"Thailand\"]\n",
    "months = list(range(1, 7))\n",
    "\n",
    "control_filt = control[\n",
    "    (control[\"year\"] == 2023) &\n",
    "    (control[\"month\"].isin(months)) &\n",
    "    (control[\"country\"].isin(countries))\n",
    "]\n",
    "\n",
    "treatment_filt = treatment[\n",
    "    (treatment[\"year\"] == 2024) &\n",
    "    (treatment[\"month\"].isin(months)) &\n",
    "    (treatment[\"country\"].isin(countries))\n",
    "]\n",
    "\n",
    "print(\"Controllo filtered:\", control_filt.shape)\n",
    "print(\"Treatment filtered:\", treatment_filt.shape)\n",
    "\n"
   ]
  },
  {
   "cell_type": "markdown",
   "id": "564487cd",
   "metadata": {},
   "source": [
    "#\n",
    "I create a dictionary to associate each variable with a readable name , to be used in charts and test results."
   ]
  },
  {
   "cell_type": "code",
   "execution_count": 68,
   "id": "8fab281a",
   "metadata": {},
   "outputs": [],
   "source": [
    "labels = {\n",
    "    \"total_loss_due_to_discount\": \"Loss Due Discount\",\n",
    "    \"total_margin_usd\": \"Total Margin (USD))\",\n",
    "    \"total_units_sold\": \"Units sold\"\n",
    "}"
   ]
  },
  {
   "cell_type": "markdown",
   "id": "6cb219cc",
   "metadata": {},
   "source": [
    "## 6. Normality Pre-test (Shapiro-Wilk)\n",
    "I define a function that allows me to check the data distribution.  \n",
    "For each key variable, I check:\n",
    "- the histogram with density curve,\n",
    "- the result of the Shapiro-Wilk test.\n",
    "\n",
    "If the p-value < 0.05 → the data are NOT normal, so I will use a non-parametric test (Mann-Whitney)."
   ]
  },
  {
   "cell_type": "code",
   "execution_count": 69,
   "id": "93debee9",
   "metadata": {},
   "outputs": [
    {
     "data": {
      "image/png": "[encoded data removed]",
      "text/plain": [
       "<Figure size 640x480 with 1 Axes>"
      ]
     },
     "metadata": {},
     "output_type": "display_data"
    },
    {
     "name": "stdout",
     "output_type": "stream",
     "text": [
      "Shapiro CONTROL-Loss Due Discount: stat=0.739, p=0.000\n"
     ]
    },
    {
     "data": {
      "image/png": "[encoded data removed]",
      "text/plain": [
       "<Figure size 640x480 with 1 Axes>"
      ]
     },
     "metadata": {},
     "output_type": "display_data"
    },
    {
     "name": "stdout",
     "output_type": "stream",
     "text": [
      "Shapiro TREATMENT-Loss Due Discount: stat=0.739, p=0.000\n"
     ]
    },
    {
     "data": {
      "image/png": "[encoded data removed]",
      "text/plain": [
       "<Figure size 640x480 with 1 Axes>"
      ]
     },
     "metadata": {},
     "output_type": "display_data"
    },
    {
     "name": "stdout",
     "output_type": "stream",
     "text": [
      "Shapiro CONTROL-Total Margin (USD)): stat=0.887, p=0.014\n"
     ]
    },
    {
     "data": {
      "image/png": "[encoded data removed]",
      "text/plain": [
       "<Figure size 640x480 with 1 Axes>"
      ]
     },
     "metadata": {},
     "output_type": "display_data"
    },
    {
     "name": "stdout",
     "output_type": "stream",
     "text": [
      "Shapiro TREATMENT-Total Margin (USD)): stat=0.895, p=0.020\n"
     ]
    },
    {
     "data": {
      "image/png": "[encoded data removed]",
      "text/plain": [
       "<Figure size 640x480 with 1 Axes>"
      ]
     },
     "metadata": {},
     "output_type": "display_data"
    },
    {
     "name": "stdout",
     "output_type": "stream",
     "text": [
      "Shapiro CONTROL-Units sold: stat=0.929, p=0.102\n"
     ]
    },
    {
     "data": {
      "image/png": "[encoded data removed]",
      "text/plain": [
       "<Figure size 640x480 with 1 Axes>"
      ]
     },
     "metadata": {},
     "output_type": "display_data"
    },
    {
     "name": "stdout",
     "output_type": "stream",
     "text": [
      "Shapiro TREATMENT-Units sold: stat=0.929, p=0.102\n"
     ]
    }
   ],
   "source": [
    "def check_distribution(data, col, group):\n",
    "    sns.histplot(data[col], kde=True)\n",
    "    nome_it = labels.get(col, col)\n",
    "    plt.title(f\"{group} - {nome_it}\")\n",
    "    plt.show()\n",
    "    stat, p = stats.shapiro(data[col].dropna())\n",
    "    print(f\"Shapiro {group}-{nome_it}: stat={stat:.3f}, p={p:.3f}\")\n",
    "\n",
    "for col in [\"total_loss_due_to_discount\", \"total_margin_usd\", \"total_units_sold\"]:\n",
    "    check_distribution(control_filt, col, \"CONTROL\")\n",
    "    check_distribution(treatment_filt, col, \"TREATMENT\")"
   ]
  },
  {
   "cell_type": "markdown",
   "id": "95aeb1a6",
   "metadata": {},
   "source": [
    "## 7. Test on total_loss_due_to_discount (Mann-Whitney U)\n",
    "I check if the loss due to discount differs between treatment and control.\n",
    "I use the non-parametric Mann-Whitney U test (two-tailed), consistent with non-normality.\n",
    "I interpret p-value < 0.05 as a statistically significant difference."
   ]
  },
  {
   "cell_type": "code",
   "execution_count": 70,
   "id": "12d46923",
   "metadata": {},
   "outputs": [
    {
     "name": "stdout",
     "output_type": "stream",
     "text": [
      "\n",
      ">>> total_loss_due_to_discount — Mann-Whitney U (two-sided)\n",
      "Mean CONTROL = 417.83 | Mean TREATMENT = 208.91\n",
      "stat = 152.000, p-value = 0.014\n",
      "Δ% (T vs C) = -50.00%\n",
      " → SIGNIFICANT difference\n"
     ]
    }
   ],
   "source": [
    "def compare_mw(control, treatment, col):\n",
    "    # numeric conversion and NaN handling\n",
    "    x = pd.to_numeric(control[col], errors=\"coerce\").dropna()\n",
    "    y = pd.to_numeric(treatment[col], errors=\"coerce\").dropna()\n",
    "\n",
    "    stat, p = stats.mannwhitneyu(y, x, alternative=\"two-sided\")\n",
    "    print(f\"\\n>>> {col} — Mann-Whitney U (two-sided)\")\n",
    "    print(f\"Mean CONTROL = {x.mean():.2f} | Mean TREATMENT = {y.mean():.2f}\")\n",
    "    print(f\"stat = {stat:.3f}, p-value = {p:.3f}\")\n",
    "    delta_pct = (y.mean() - x.mean()) / abs(x.mean()) * 100\n",
    "    print(f\"Δ% (T vs C) = {delta_pct:.2f}%\")\n",
    "    print(\" → SIGNIFICANT difference\" if p < 0.05 else \" → NON-significant difference\")\n",
    "\n",
    "compare_mw(control_filt, treatment_filt, \"total_loss_due_to_discount\")"
   ]
  },
  {
   "cell_type": "markdown",
   "id": "287f4e25",
   "metadata": {},
   "source": [
    "## 8. Test on total_margin_usd (Mann-Whitney U)\n",
    "I evaluate whether the total margin differs in the treatment compared to the control.\n",
    "I use the Mann-Whitney U test (two-tailed). p-value < 0.05 indicates a significant difference."
   ]
  },
  {
   "cell_type": "code",
   "execution_count": 71,
   "id": "85aab212",
   "metadata": {},
   "outputs": [
    {
     "name": "stdout",
     "output_type": "stream",
     "text": [
      "\n",
      ">>> total_margin_usd — Mann-Whitney U (two-sided)\n",
      "Mean CONTROL = 1261.61 | Mean TREATMENT = 1470.52\n",
      "stat = 300.000, p-value = 0.442\n",
      "Δ% (T vs C) = 16.56%\n",
      " → NON-significant difference\n"
     ]
    }
   ],
   "source": [
    "def compare_mw(control, treatment, col):\n",
    "    # numeric conversion and NaN handling\n",
    "    x = pd.to_numeric(control[col], errors=\"coerce\").dropna()\n",
    "    y = pd.to_numeric(treatment[col], errors=\"coerce\").dropna()\n",
    "\n",
    "    stat, p = stats.mannwhitneyu(y, x, alternative=\"two-sided\")\n",
    "    print(f\"\\n>>> {col} — Mann-Whitney U (two-sided)\")\n",
    "    print(f\"Mean CONTROL = {x.mean():.2f} | Mean TREATMENT = {y.mean():.2f}\")\n",
    "    print(f\"stat = {stat:.3f}, p-value = {p:.3f}\")\n",
    "    delta_pct = (y.mean() - x.mean()) / abs(x.mean()) * 100\n",
    "    print(f\"Δ% (T vs C) = {delta_pct:.2f}%\")\n",
    "    print(\" → SIGNIFICANT difference\" if p < 0.05 else \" → NON-significant difference\")\n",
    "\n",
    "compare_mw(control_filt, treatment_filt, \"total_margin_usd\")"
   ]
  },
  {
   "cell_type": "markdown",
   "id": "2056b1ec",
   "metadata": {},
   "source": [
    "## 9. Test on total_units_sold (one-tailed Welch t-test)\n",
    "I check that volumes do not worsen: alternative hypothesis “greater” (mean(treatment) > mean(control)).\n",
    "I use Welch’s t-test (variances not necessarily equal). p-value < 0.05 → volumes are at least stable or higher."
   ]
  },
  {
   "cell_type": "code",
   "execution_count": 72,
   "id": "a88b254d",
   "metadata": {},
   "outputs": [
    {
     "name": "stdout",
     "output_type": "stream",
     "text": [
      "\n",
      ">>> total_units_sold — Welch t-test (greater)\n",
      "Mean CONTROL = 34.39 | Mean TREATMENT = 34.04\n",
      "stat = -0.050, p-value = 0.520\n",
      "Δ% (T vs C) = -1.00%\n",
      " → NON-significant difference\n"
     ]
    }
   ],
   "source": [
    "def compare_ttest_greater(control, treatment, col):\n",
    "    # numeric conversion and NaN handling\n",
    "    x = pd.to_numeric(control[col], errors=\"coerce\").dropna()\n",
    "    y = pd.to_numeric(treatment[col], errors=\"coerce\").dropna()\n",
    "\n",
    "    # try with recent SciPy (supports alternative=); simple fallback if not supported\n",
    "    try:\n",
    "        stat, p = stats.ttest_ind(y, x, equal_var=False, alternative=\"greater\")\n",
    "    except TypeError:\n",
    "        stat, p2 = stats.ttest_ind(y, x, equal_var=False)\n",
    "        # H1: mean(y) > mean(x)  → one-sided from two-tailed\n",
    "        p = p2 / 2 if stat > 0 else 1 - (p2 / 2)\n",
    "\n",
    "    print(f\"\\n>>> {col} — Welch t-test (greater)\")\n",
    "    print(f\"Mean CONTROL = {x.mean():.2f} | Mean TREATMENT = {y.mean():.2f}\")\n",
    "    print(f\"stat = {stat:.3f}, p-value = {p:.3f}\")\n",
    "    delta_pct = (y.mean() - x.mean()) / abs(x.mean()) * 100\n",
    "    print(f\"Δ% (T vs C) = {delta_pct:.2f}%\")\n",
    "    print(\" → SIGNIFICANT difference\" if p < 0.05 else \" → NON-significant difference\")\n",
    "\n",
    "compare_ttest_greater(control_filt, treatment_filt, \"total_units_sold\")"
   ]
  },
  {
   "cell_type": "markdown",
   "id": "b09c6433",
   "metadata": {},
   "source": [
    "## 10. Analysis by Individual Country\n",
    "After evaluating the overall results, I perform tests separately for each country (Japan, Germany, Thailand).  \n",
    "- Loss due to discount (**Mann-Whitney U**, two-tailed)  \n",
    "- Total margin (**Mann-Whitney U**, two-tailed)  \n",
    "- Units sold (**t-test**, one-tailed, to check that volumes remain stable)  \n",
    "\n",
    "This way, I can understand if the treatment effect is consistent across markets or if specific differences emerge for individual countries."
   ]
  },
  {
   "cell_type": "code",
   "execution_count": 73,
   "id": "70760d33",
   "metadata": {},
   "outputs": [
    {
     "name": "stdout",
     "output_type": "stream",
     "text": [
      "\n",
      "=== Test by Country ===\n",
      "\n",
      "Japan:\n",
      "  Loss  p=0.180  | mean C=451.22  T=225.61\n",
      "  Margin p=0.589 | mean C=1906.10  T=2131.71\n",
      "  Units  p=0.512 | mean C=45.02  T=44.57\n",
      "\n",
      "Germany:\n",
      "  Loss  p=0.077  | mean C=513.30  T=256.65\n",
      "  Margin p=0.377 | mean C=1266.08  T=1522.73\n",
      "  Units  p=0.513 | mean C=39.36  T=38.97\n",
      "\n",
      "Thailand:\n",
      "  Loss  p=0.130  | mean C=285.38  T=142.69\n",
      "  Margin p=0.505 | mean C=773.21  T=915.89\n",
      "  Units  p=0.513 | mean C=20.81  T=20.60\n"
     ]
    }
   ],
   "source": [
    "print(\"\\n=== Test by Country ===\")\n",
    "for ctry in [\"Japan\",\"Germany\",\"Thailand\"]:\n",
    "    ctl = control_filt[control_filt[\"country\"]==ctry]\n",
    "    trt = treatment_filt[treatment_filt[\"country\"]==ctry]\n",
    "    if len(ctl)==0 or len(trt)==0:\n",
    "        print(f\"{ctry}: insufficient data\")\n",
    "        continue\n",
    "    # Loss (MW)\n",
    "    statL, pL = stats.mannwhitneyu(trt[\"total_loss_due_to_discount\"].dropna(),\n",
    "                                   ctl[\"total_loss_due_to_discount\"].dropna(),\n",
    "                                   alternative=\"two-sided\")\n",
    "    # Margin (MW)\n",
    "    statM, pM = stats.mannwhitneyu(trt[\"total_margin_usd\"].dropna(),\n",
    "                                   ctl[\"total_margin_usd\"].dropna(),\n",
    "                                   alternative=\"two-sided\")\n",
    "    # Units (t one-sided)\n",
    "    statU, pU = stats.ttest_ind(trt[\"total_units_sold\"].dropna(),\n",
    "                                ctl[\"total_units_sold\"].dropna(),\n",
    "                                equal_var=False, alternative=\"greater\")\n",
    "    print(f\"\\n{ctry}:\")\n",
    "    print(f\"  Loss  p={pL:.3f}  | mean C={ctl['total_loss_due_to_discount'].mean():.2f}  T={trt['total_loss_due_to_discount'].mean():.2f}\")\n",
    "    print(f\"  Margin p={pM:.3f} | mean C={ctl['total_margin_usd'].mean():.2f}  T={trt['total_margin_usd'].mean():.2f}\")\n",
    "    print(f\"  Units  p={pU:.3f} | mean C={ctl['total_units_sold'].mean():.2f}  T={trt['total_units_sold'].mean():.2f}\")"
   ]
  },
  {
   "cell_type": "markdown",
   "id": "a5911fa8",
   "metadata": {},
   "source": [
    "# Conclusions\n",
    "\n",
    "The A/B analysis between control (2023) and treatment (2024) highlights the following points:\n",
    "\n",
    "- **Loss due to discount**: the goal was a significant reduction. The Mann-Whitney test confirms that the loss decreased by **50%** (p=0.014).  \n",
    "- **Total margin**: the goal was an increase. The treatment mean is higher (+16.6%), but the difference is **not statistically significant** (p=0.442).  \n",
    "- **Units sold**: the goal was stability (drop < 1%). The difference is not significant (p=0.520), so volumes can be considered **substantially unchanged**.  \n",
    "\n",
    "### Summary\n",
    "The A/B test shows that the discount reduction led to a **significant cut in loss** without compromising sales volumes.  \n",
    "However, there is **no strong evidence** that the total margin increased significantly.  \n",
    "\n",
    "Overall, the experiment can be considered **partially successful**:  \n",
    "- loss reduction goal achieved,  \n",
    "- stable volumes,  \n",
    "- margin not statistically confirmed.  \n",
    "\n",
    "For expansion to other markets, it is recommended to:  \n",
    "- better monitor the margin over a longer period,  \n",
    "- analyze country-by-country differences to understand where the effect is most promising"
   ]
  }
 ],
 "metadata": {
  "kernelspec": {
   "display_name": "Python 3",
   "language": "python",
   "name": "python3"
  },
  "language_info": {
   "codemirror_mode": {
    "name": "ipython",
    "version": 3
   },
   "file_extension": ".py",
   "mimetype": "text/x-python",
   "name": "python",
   "nbconvert_exporter": "python",
   "pygments_lexer": "ipython3",
   "version": "3.13.2"
  }
 },
 "nbformat": 4,
 "nbformat_minor": 5
}
